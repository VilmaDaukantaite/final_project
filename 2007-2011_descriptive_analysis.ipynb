{
 "cells": [
  {
   "cell_type": "code",
   "execution_count": 175,
   "metadata": {},
   "outputs": [],
   "source": [
    "import pandas as pd\n",
    "import numpy as np\n",
    "import matplotlib.pyplot as plt\n",
    "import seaborn as sns\n",
    "%matplotlib inline"
   ]
  },
  {
   "cell_type": "code",
   "execution_count": 176,
   "metadata": {},
   "outputs": [],
   "source": [
    "pd.set_option('display.max_columns', None)"
   ]
  },
  {
   "cell_type": "code",
   "execution_count": 232,
   "metadata": {},
   "outputs": [],
   "source": [
    "accepted = pd.read_csv(\"accepted_2007_2011.csv\")"
   ]
  },
  {
   "cell_type": "code",
   "execution_count": 233,
   "metadata": {},
   "outputs": [],
   "source": [
    "accepted.set_index(\"id\", inplace=True)"
   ]
  },
  {
   "cell_type": "code",
   "execution_count": 234,
   "metadata": {},
   "outputs": [],
   "source": [
    "from sklearn.model_selection import train_test_split\n",
    "\n",
    "loans = accepted.drop('grade',axis=1)\n",
    "grade = accepted['grade']\n",
    "sub_grade = accepted[\"sub_grade\"]\n",
    "loans_train, loans_test, grade_train, grade_test = train_test_split(loans, grade, test_size=0.2, random_state=42)"
   ]
  },
  {
   "cell_type": "code",
   "execution_count": 235,
   "metadata": {},
   "outputs": [
    {
     "data": {
      "text/plain": [
       "(31997, 55)"
      ]
     },
     "execution_count": 235,
     "metadata": {},
     "output_type": "execute_result"
    }
   ],
   "source": [
    "loans_train.shape"
   ]
  },
  {
   "cell_type": "code",
   "execution_count": 236,
   "metadata": {},
   "outputs": [
    {
     "data": {
      "text/plain": [
       "(8000, 55)"
      ]
     },
     "execution_count": 236,
     "metadata": {},
     "output_type": "execute_result"
    }
   ],
   "source": [
    "loans_test.shape"
   ]
  },
  {
   "cell_type": "code",
   "execution_count": 237,
   "metadata": {},
   "outputs": [],
   "source": [
    "loans_desc = loans_train.merge(grade_train, left_index=True, right_index=True)"
   ]
  },
  {
   "cell_type": "code",
   "execution_count": 238,
   "metadata": {},
   "outputs": [],
   "source": [
    "drop_no_var = [\"hardship_flag\", \"disbursement_method\", \"tax_liens\", \"delinq_amnt\", \"chargeoff_within_12_mths\", \"acc_now_delinq\", \"application_type\", \n",
    "\"policy_code\", \"collections_12_mths_ex_med\", \"out_prncp\", \"out_prncp_inv\", \"pub_rec\", \"desc\", \"loan_status\", \"initial_list_status\"]"
   ]
  },
  {
   "cell_type": "code",
   "execution_count": 239,
   "metadata": {},
   "outputs": [],
   "source": [
    "loans_desc.drop(drop_no_var, axis=1, inplace = True)"
   ]
  },
  {
   "cell_type": "code",
   "execution_count": 240,
   "metadata": {},
   "outputs": [],
   "source": [
    "post_loan_list = [\"total_pymnt\", \"total_pymnt_inv\", \"total_rec_prncp\", \"total_rec_int\", \"total_rec_late_fee\",\n",
    "                  \"recoveries\", \"collection_recovery_fee\", \"last_pymnt_amnt\", \"last_credit_pull_d\", \n",
    "                  \"last_fico_range_high\", \"last_fico_range_low\", \"debt_settlement_flag\", \"installment\"]"
   ]
  },
  {
   "cell_type": "code",
   "execution_count": 241,
   "metadata": {},
   "outputs": [],
   "source": [
    "post_loan_df = loans_desc[post_loan_list]"
   ]
  },
  {
   "cell_type": "code",
   "execution_count": 242,
   "metadata": {},
   "outputs": [],
   "source": [
    "pre_loan_df = loans_desc.drop(post_loan_list, axis = 1)"
   ]
  },
  {
   "cell_type": "code",
   "execution_count": 243,
   "metadata": {},
   "outputs": [
    {
     "data": {
      "text/html": [
       "<div>\n",
       "<style scoped>\n",
       "    .dataframe tbody tr th:only-of-type {\n",
       "        vertical-align: middle;\n",
       "    }\n",
       "\n",
       "    .dataframe tbody tr th {\n",
       "        vertical-align: top;\n",
       "    }\n",
       "\n",
       "    .dataframe thead th {\n",
       "        text-align: right;\n",
       "    }\n",
       "</style>\n",
       "<table border=\"1\" class=\"dataframe\">\n",
       "  <thead>\n",
       "    <tr style=\"text-align: right;\">\n",
       "      <th></th>\n",
       "      <th>loan_amnt</th>\n",
       "      <th>funded_amnt</th>\n",
       "      <th>funded_amnt_inv</th>\n",
       "      <th>term</th>\n",
       "      <th>int_rate</th>\n",
       "      <th>sub_grade</th>\n",
       "      <th>emp_title</th>\n",
       "      <th>emp_length</th>\n",
       "      <th>home_ownership</th>\n",
       "      <th>annual_inc</th>\n",
       "      <th>verification_status</th>\n",
       "      <th>issue_d</th>\n",
       "      <th>pymnt_plan</th>\n",
       "      <th>purpose</th>\n",
       "      <th>title</th>\n",
       "      <th>addr_state</th>\n",
       "      <th>dti</th>\n",
       "      <th>delinq_2yrs</th>\n",
       "      <th>earliest_cr_line</th>\n",
       "      <th>fico_range_low</th>\n",
       "      <th>fico_range_high</th>\n",
       "      <th>inq_last_6mths</th>\n",
       "      <th>open_acc</th>\n",
       "      <th>revol_bal</th>\n",
       "      <th>revol_util</th>\n",
       "      <th>total_acc</th>\n",
       "      <th>pub_rec_bankruptcies</th>\n",
       "      <th>grade</th>\n",
       "    </tr>\n",
       "    <tr>\n",
       "      <th>id</th>\n",
       "      <th></th>\n",
       "      <th></th>\n",
       "      <th></th>\n",
       "      <th></th>\n",
       "      <th></th>\n",
       "      <th></th>\n",
       "      <th></th>\n",
       "      <th></th>\n",
       "      <th></th>\n",
       "      <th></th>\n",
       "      <th></th>\n",
       "      <th></th>\n",
       "      <th></th>\n",
       "      <th></th>\n",
       "      <th></th>\n",
       "      <th></th>\n",
       "      <th></th>\n",
       "      <th></th>\n",
       "      <th></th>\n",
       "      <th></th>\n",
       "      <th></th>\n",
       "      <th></th>\n",
       "      <th></th>\n",
       "      <th></th>\n",
       "      <th></th>\n",
       "      <th></th>\n",
       "      <th></th>\n",
       "      <th></th>\n",
       "    </tr>\n",
       "  </thead>\n",
       "  <tbody>\n",
       "    <tr>\n",
       "      <th>981750</th>\n",
       "      <td>35000.0</td>\n",
       "      <td>35000.0</td>\n",
       "      <td>35000.000000</td>\n",
       "      <td>60 months</td>\n",
       "      <td>20.30</td>\n",
       "      <td>E5</td>\n",
       "      <td>LIK Managment</td>\n",
       "      <td>2 years</td>\n",
       "      <td>MORTGAGE</td>\n",
       "      <td>81600.0</td>\n",
       "      <td>Verified</td>\n",
       "      <td>2011-10-01</td>\n",
       "      <td>n</td>\n",
       "      <td>debt_consolidation</td>\n",
       "      <td>Personal</td>\n",
       "      <td>PA</td>\n",
       "      <td>15.29</td>\n",
       "      <td>0.0</td>\n",
       "      <td>1998-04-01</td>\n",
       "      <td>685.0</td>\n",
       "      <td>689.0</td>\n",
       "      <td>1.0</td>\n",
       "      <td>17.0</td>\n",
       "      <td>26436.0</td>\n",
       "      <td>76.0</td>\n",
       "      <td>44.0</td>\n",
       "      <td>0.0</td>\n",
       "      <td>E</td>\n",
       "    </tr>\n",
       "    <tr>\n",
       "      <th>750093</th>\n",
       "      <td>20000.0</td>\n",
       "      <td>20000.0</td>\n",
       "      <td>20000.000000</td>\n",
       "      <td>60 months</td>\n",
       "      <td>16.89</td>\n",
       "      <td>D4</td>\n",
       "      <td>MultiCare</td>\n",
       "      <td>10+ years</td>\n",
       "      <td>OWN</td>\n",
       "      <td>48000.0</td>\n",
       "      <td>Verified</td>\n",
       "      <td>2011-05-01</td>\n",
       "      <td>n</td>\n",
       "      <td>debt_consolidation</td>\n",
       "      <td>Life Line</td>\n",
       "      <td>WA</td>\n",
       "      <td>6.83</td>\n",
       "      <td>0.0</td>\n",
       "      <td>1993-10-01</td>\n",
       "      <td>700.0</td>\n",
       "      <td>704.0</td>\n",
       "      <td>0.0</td>\n",
       "      <td>6.0</td>\n",
       "      <td>5845.0</td>\n",
       "      <td>34.0</td>\n",
       "      <td>26.0</td>\n",
       "      <td>0.0</td>\n",
       "      <td>D</td>\n",
       "    </tr>\n",
       "    <tr>\n",
       "      <th>886824</th>\n",
       "      <td>21000.0</td>\n",
       "      <td>21000.0</td>\n",
       "      <td>19875.000000</td>\n",
       "      <td>60 months</td>\n",
       "      <td>18.64</td>\n",
       "      <td>E1</td>\n",
       "      <td>Aetna, Inc</td>\n",
       "      <td>10+ years</td>\n",
       "      <td>MORTGAGE</td>\n",
       "      <td>200000.0</td>\n",
       "      <td>Verified</td>\n",
       "      <td>2011-09-01</td>\n",
       "      <td>n</td>\n",
       "      <td>debt_consolidation</td>\n",
       "      <td>Debt Consolidation</td>\n",
       "      <td>CT</td>\n",
       "      <td>10.59</td>\n",
       "      <td>0.0</td>\n",
       "      <td>1994-09-01</td>\n",
       "      <td>680.0</td>\n",
       "      <td>684.0</td>\n",
       "      <td>0.0</td>\n",
       "      <td>12.0</td>\n",
       "      <td>38588.0</td>\n",
       "      <td>87.5</td>\n",
       "      <td>30.0</td>\n",
       "      <td>0.0</td>\n",
       "      <td>E</td>\n",
       "    </tr>\n",
       "    <tr>\n",
       "      <th>551238</th>\n",
       "      <td>30000.0</td>\n",
       "      <td>30000.0</td>\n",
       "      <td>28364.692052</td>\n",
       "      <td>60 months</td>\n",
       "      <td>18.99</td>\n",
       "      <td>F3</td>\n",
       "      <td>OneBeacon Insurance Group</td>\n",
       "      <td>5 years</td>\n",
       "      <td>MORTGAGE</td>\n",
       "      <td>87500.0</td>\n",
       "      <td>Verified</td>\n",
       "      <td>2011-03-01</td>\n",
       "      <td>n</td>\n",
       "      <td>debt_consolidation</td>\n",
       "      <td>High Interest Debt Consolidation</td>\n",
       "      <td>MA</td>\n",
       "      <td>11.12</td>\n",
       "      <td>0.0</td>\n",
       "      <td>1995-06-01</td>\n",
       "      <td>680.0</td>\n",
       "      <td>684.0</td>\n",
       "      <td>0.0</td>\n",
       "      <td>7.0</td>\n",
       "      <td>10403.0</td>\n",
       "      <td>54.5</td>\n",
       "      <td>17.0</td>\n",
       "      <td>0.0</td>\n",
       "      <td>F</td>\n",
       "    </tr>\n",
       "    <tr>\n",
       "      <th>428826</th>\n",
       "      <td>25000.0</td>\n",
       "      <td>25000.0</td>\n",
       "      <td>17371.065035</td>\n",
       "      <td>36 months</td>\n",
       "      <td>16.00</td>\n",
       "      <td>E2</td>\n",
       "      <td>Johnson &amp; Johnson</td>\n",
       "      <td>10+ years</td>\n",
       "      <td>MORTGAGE</td>\n",
       "      <td>245000.0</td>\n",
       "      <td>Verified</td>\n",
       "      <td>2009-07-01</td>\n",
       "      <td>n</td>\n",
       "      <td>credit_card</td>\n",
       "      <td>I'm too smart to keep paying high rates</td>\n",
       "      <td>NJ</td>\n",
       "      <td>17.93</td>\n",
       "      <td>0.0</td>\n",
       "      <td>1994-03-01</td>\n",
       "      <td>690.0</td>\n",
       "      <td>694.0</td>\n",
       "      <td>6.0</td>\n",
       "      <td>14.0</td>\n",
       "      <td>181638.0</td>\n",
       "      <td>70.7</td>\n",
       "      <td>52.0</td>\n",
       "      <td>0.0</td>\n",
       "      <td>E</td>\n",
       "    </tr>\n",
       "  </tbody>\n",
       "</table>\n",
       "</div>"
      ],
      "text/plain": [
       "        loan_amnt  funded_amnt  funded_amnt_inv        term  int_rate  \\\n",
       "id                                                                      \n",
       "981750    35000.0      35000.0     35000.000000   60 months     20.30   \n",
       "750093    20000.0      20000.0     20000.000000   60 months     16.89   \n",
       "886824    21000.0      21000.0     19875.000000   60 months     18.64   \n",
       "551238    30000.0      30000.0     28364.692052   60 months     18.99   \n",
       "428826    25000.0      25000.0     17371.065035   36 months     16.00   \n",
       "\n",
       "       sub_grade                  emp_title emp_length home_ownership  \\\n",
       "id                                                                      \n",
       "981750        E5              LIK Managment    2 years       MORTGAGE   \n",
       "750093        D4                  MultiCare  10+ years            OWN   \n",
       "886824        E1                 Aetna, Inc  10+ years       MORTGAGE   \n",
       "551238        F3  OneBeacon Insurance Group    5 years       MORTGAGE   \n",
       "428826        E2          Johnson & Johnson  10+ years       MORTGAGE   \n",
       "\n",
       "        annual_inc verification_status     issue_d pymnt_plan  \\\n",
       "id                                                              \n",
       "981750     81600.0            Verified  2011-10-01          n   \n",
       "750093     48000.0            Verified  2011-05-01          n   \n",
       "886824    200000.0            Verified  2011-09-01          n   \n",
       "551238     87500.0            Verified  2011-03-01          n   \n",
       "428826    245000.0            Verified  2009-07-01          n   \n",
       "\n",
       "                   purpose                                    title  \\\n",
       "id                                                                    \n",
       "981750  debt_consolidation                                 Personal   \n",
       "750093  debt_consolidation                                Life Line   \n",
       "886824  debt_consolidation                       Debt Consolidation   \n",
       "551238  debt_consolidation         High Interest Debt Consolidation   \n",
       "428826         credit_card  I'm too smart to keep paying high rates   \n",
       "\n",
       "       addr_state    dti  delinq_2yrs earliest_cr_line  fico_range_low  \\\n",
       "id                                                                       \n",
       "981750         PA  15.29          0.0       1998-04-01           685.0   \n",
       "750093         WA   6.83          0.0       1993-10-01           700.0   \n",
       "886824         CT  10.59          0.0       1994-09-01           680.0   \n",
       "551238         MA  11.12          0.0       1995-06-01           680.0   \n",
       "428826         NJ  17.93          0.0       1994-03-01           690.0   \n",
       "\n",
       "        fico_range_high  inq_last_6mths  open_acc  revol_bal  revol_util  \\\n",
       "id                                                                         \n",
       "981750            689.0             1.0      17.0    26436.0        76.0   \n",
       "750093            704.0             0.0       6.0     5845.0        34.0   \n",
       "886824            684.0             0.0      12.0    38588.0        87.5   \n",
       "551238            684.0             0.0       7.0    10403.0        54.5   \n",
       "428826            694.0             6.0      14.0   181638.0        70.7   \n",
       "\n",
       "        total_acc  pub_rec_bankruptcies grade  \n",
       "id                                             \n",
       "981750       44.0                   0.0     E  \n",
       "750093       26.0                   0.0     D  \n",
       "886824       30.0                   0.0     E  \n",
       "551238       17.0                   0.0     F  \n",
       "428826       52.0                   0.0     E  "
      ]
     },
     "execution_count": 243,
     "metadata": {},
     "output_type": "execute_result"
    }
   ],
   "source": [
    "pre_loan_df.head()"
   ]
  },
  {
   "cell_type": "code",
   "execution_count": 244,
   "metadata": {},
   "outputs": [
    {
     "data": {
      "text/plain": [
       "0.0     28458\n",
       "1.0      2696\n",
       "2.0       572\n",
       "3.0       185\n",
       "4.0        54\n",
       "5.0        14\n",
       "6.0        10\n",
       "7.0         4\n",
       "8.0         2\n",
       "11.0        1\n",
       "9.0         1\n",
       "Name: delinq_2yrs, dtype: int64"
      ]
     },
     "execution_count": 244,
     "metadata": {},
     "output_type": "execute_result"
    }
   ],
   "source": [
    "pre_loan_df[\"delinq_2yrs\"].value_counts()"
   ]
  },
  {
   "cell_type": "code",
   "execution_count": 245,
   "metadata": {},
   "outputs": [
    {
     "data": {
      "text/plain": [
       "B    9392\n",
       "A    7654\n",
       "C    6637\n",
       "D    4490\n",
       "E    2518\n",
       "F     951\n",
       "G     355\n",
       "Name: grade, dtype: int64"
      ]
     },
     "execution_count": 245,
     "metadata": {},
     "output_type": "execute_result"
    }
   ],
   "source": [
    "pre_loan_df[\"grade\"].value_counts()"
   ]
  },
  {
   "cell_type": "code",
   "execution_count": 246,
   "metadata": {},
   "outputs": [
    {
     "data": {
      "text/plain": [
       " 36 months    23439\n",
       " 60 months     8558\n",
       "Name: term, dtype: int64"
      ]
     },
     "execution_count": 246,
     "metadata": {},
     "output_type": "execute_result"
    }
   ],
   "source": [
    "pre_loan_df[\"term\"].value_counts()"
   ]
  },
  {
   "cell_type": "code",
   "execution_count": 247,
   "metadata": {},
   "outputs": [
    {
     "data": {
      "text/plain": [
       "([<matplotlib.patches.Wedge at 0x1317fa9e8>,\n",
       "  <matplotlib.patches.Wedge at 0x1317dd898>],\n",
       " [Text(-0.7339974370447289, 0.8192971148562466, '36 months'),\n",
       "  Text(0.7339975137528578, -0.819297046134443, '60 months')])"
      ]
     },
     "execution_count": 247,
     "metadata": {},
     "output_type": "execute_result"
    },
    {
     "data": {
      "image/png": "[encoded data removed]",
      "text/plain": [
       "<Figure size 432x288 with 1 Axes>"
      ]
     },
     "metadata": {},
     "output_type": "display_data"
    }
   ],
   "source": [
    "plt.pie(pre_loan_df[\"term\"].value_counts(), labels = [\"36 months\", \"60 months\"])"
   ]
  },
  {
   "cell_type": "code",
   "execution_count": 248,
   "metadata": {},
   "outputs": [
    {
     "data": {
      "text/plain": [
       "RENT        15238\n",
       "MORTGAGE    14301\n",
       "OWN          2356\n",
       "OTHER         102\n",
       "Name: home_ownership, dtype: int64"
      ]
     },
     "execution_count": 248,
     "metadata": {},
     "output_type": "execute_result"
    }
   ],
   "source": [
    "pre_loan_df[\"home_ownership\"].value_counts()"
   ]
  },
  {
   "cell_type": "code",
   "execution_count": 249,
   "metadata": {},
   "outputs": [
    {
     "data": {
      "text/plain": [
       "([<matplotlib.patches.Wedge at 0x131a797f0>,\n",
       "  <matplotlib.patches.Wedge at 0x131042048>,\n",
       "  <matplotlib.patches.Wedge at 0x131042518>,\n",
       "  <matplotlib.patches.Wedge at 0x1310429e8>],\n",
       " [Text(0.08205952071881488, 1.0969349274498459, 'Rent'),\n",
       "  Text(-0.34184925197122945, -1.0455329210152644, 'Mortgage'),\n",
       "  Text(1.0654350049382746, -0.2735840826001743, 'Own'),\n",
       "  Text(1.0999448369527087, -0.011016154550452817, 'Other')])"
      ]
     },
     "execution_count": 249,
     "metadata": {},
     "output_type": "execute_result"
    },
    {
     "data": {
      "image/png": "[encoded data removed]",
      "text/plain": [
       "<Figure size 432x288 with 1 Axes>"
      ]
     },
     "metadata": {},
     "output_type": "display_data"
    }
   ],
   "source": [
    "plt.pie(pre_loan_df[\"home_ownership\"].value_counts(), labels = [\"Rent\", \"Mortgage\", \"Own\", \"Other\"])"
   ]
  },
  {
   "cell_type": "code",
   "execution_count": 250,
   "metadata": {},
   "outputs": [
    {
     "data": {
      "text/plain": [
       "10+ years    7323\n",
       "< 1 year     3803\n",
       "2 years      3675\n",
       "3 years      3368\n",
       "4 years      2800\n",
       "5 years      2718\n",
       "1 year       2689\n",
       "6 years      1859\n",
       "7 years      1470\n",
       "8 years      1250\n",
       "9 years      1042\n",
       "Name: emp_length, dtype: int64"
      ]
     },
     "execution_count": 250,
     "metadata": {},
     "output_type": "execute_result"
    }
   ],
   "source": [
    "pre_loan_df[\"emp_length\"].value_counts()"
   ]
  },
  {
   "cell_type": "code",
   "execution_count": 251,
   "metadata": {},
   "outputs": [
    {
     "data": {
      "text/plain": [
       "<matplotlib.axes._subplots.AxesSubplot at 0x131026c50>"
      ]
     },
     "execution_count": 251,
     "metadata": {},
     "output_type": "execute_result"
    },
    {
     "data": {
      "image/png": "[encoded data removed]",
      "text/plain": [
       "<Figure size 864x720 with 2 Axes>"
      ]
     },
     "metadata": {
      "needs_background": "light"
     },
     "output_type": "display_data"
    }
   ],
   "source": [
    "plt.figure(figsize=(12,10))\n",
    "sns.heatmap(pre_loan_df.corr())"
   ]
  },
  {
   "cell_type": "code",
   "execution_count": null,
   "metadata": {},
   "outputs": [],
   "source": []
  },
  {
   "cell_type": "code",
   "execution_count": 230,
   "metadata": {},
   "outputs": [
    {
     "data": {
      "text/plain": [
       "<matplotlib.axes._subplots.AxesSubplot at 0x13155d128>"
      ]
     },
     "execution_count": 230,
     "metadata": {},
     "output_type": "execute_result"
    },
    {
     "data": {
      "image/png": "[encoded data removed]",
      "text/plain": [
       "<Figure size 936x432 with 1 Axes>"
      ]
     },
     "metadata": {
      "needs_background": "light"
     },
     "output_type": "display_data"
    }
   ],
   "source": [
    "mean_int = pre_loan_df.groupby([\"issue_d\", \"grade\"]).mean().reset_index()\n",
    "plt.figure(figsize=(13, 6))\n",
    "sns.lineplot(x=mean_int[\"issue_d\"], y=mean_int[\"int_rate\"], hue = mean_int[\"grade\"])"
   ]
  },
  {
   "cell_type": "code",
   "execution_count": 254,
   "metadata": {},
   "outputs": [],
   "source": [
    "pre_loan_df_dummies = pre_loan_df.drop([\"sub_grade\", \"emp_title\", \"title\", \"addr_state\", \"earliest_cr_line\", \"issue_d\", \"grade\"], axis = 1)"
   ]
  },
  {
   "cell_type": "code",
   "execution_count": 257,
   "metadata": {},
   "outputs": [],
   "source": [
    "pre_loan_with_dummies = pd.get_dummies(pre_loan_df_dummies)"
   ]
  },
  {
   "cell_type": "markdown",
   "metadata": {},
   "source": [
    "### Decision tree training"
   ]
  },
  {
   "cell_type": "code",
   "execution_count": 258,
   "metadata": {},
   "outputs": [],
   "source": [
    "Xtrain = pre_loan_with_dummies\n",
    "ytrain = loans_desc[\"grade\"]"
   ]
  },
  {
   "cell_type": "code",
   "execution_count": 259,
   "metadata": {},
   "outputs": [],
   "source": [
    "from sklearn.tree import DecisionTreeClassifier\n",
    "grade_class = DecisionTreeClassifier(random_state=0)"
   ]
  },
  {
   "cell_type": "code",
   "execution_count": 260,
   "metadata": {},
   "outputs": [
    {
     "data": {
      "text/plain": [
       "DecisionTreeClassifier(class_weight=None, criterion='gini', max_depth=None,\n",
       "            max_features=None, max_leaf_nodes=None,\n",
       "            min_impurity_decrease=0.0, min_impurity_split=None,\n",
       "            min_samples_leaf=1, min_samples_split=2,\n",
       "            min_weight_fraction_leaf=0.0, presort=False, random_state=0,\n",
       "            splitter='best')"
      ]
     },
     "execution_count": 260,
     "metadata": {},
     "output_type": "execute_result"
    }
   ],
   "source": [
    "grade_class.fit(Xtrain, ytrain)"
   ]
  },
  {
   "cell_type": "code",
   "execution_count": 265,
   "metadata": {},
   "outputs": [],
   "source": [
    "drop_list_obj = [\"sub_grade\", \"emp_title\", \"title\", \"addr_state\", \"earliest_cr_line\", \"issue_d\"]"
   ]
  },
  {
   "cell_type": "code",
   "execution_count": 266,
   "metadata": {},
   "outputs": [
    {
     "name": "stderr",
     "output_type": "stream",
     "text": [
      "/usr/local/lib/python3.7/site-packages/pandas/core/frame.py:3940: SettingWithCopyWarning: \n",
      "A value is trying to be set on a copy of a slice from a DataFrame\n",
      "\n",
      "See the caveats in the documentation: http://pandas.pydata.org/pandas-docs/stable/indexing.html#indexing-view-versus-copy\n",
      "  errors=errors)\n"
     ]
    }
   ],
   "source": [
    "loans_test.drop((drop_no_var + post_loan_list + drop_list_obj), axis =1, inplace=True)"
   ]
  },
  {
   "cell_type": "code",
   "execution_count": 267,
   "metadata": {},
   "outputs": [],
   "source": [
    "loans_test_with_dummies = pd.get_dummies(loans_test)"
   ]
  },
  {
   "cell_type": "code",
   "execution_count": 269,
   "metadata": {},
   "outputs": [
    {
     "data": {
      "text/plain": [
       "0.9645"
      ]
     },
     "execution_count": 269,
     "metadata": {},
     "output_type": "execute_result"
    }
   ],
   "source": [
    "grade_class.score(loans_test_with_dummies, grade_test)"
   ]
  },
  {
   "cell_type": "code",
   "execution_count": null,
   "metadata": {},
   "outputs": [],
   "source": []
  }
 ],
 "metadata": {
  "kernelspec": {
   "display_name": "Python 3",
   "language": "python",
   "name": "python3"
  },
  "language_info": {
   "codemirror_mode": {
    "name": "ipython",
    "version": 3
   },
   "file_extension": ".py",
   "mimetype": "text/x-python",
   "name": "python",
   "nbconvert_exporter": "python",
   "pygments_lexer": "ipython3",
   "version": "3.7.2"
  }
 },
 "nbformat": 4,
 "nbformat_minor": 2
}
