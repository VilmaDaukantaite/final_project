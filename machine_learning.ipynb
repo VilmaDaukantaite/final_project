{
 "cells": [
  {
   "cell_type": "code",
   "execution_count": 1,
   "metadata": {},
   "outputs": [],
   "source": [
    "import pandas as pd\n",
    "import numpy as np\n",
    "import matplotlib.pyplot as plt\n",
    "import seaborn as sns\n",
    "%matplotlib inline"
   ]
  },
  {
   "cell_type": "code",
   "execution_count": 2,
   "metadata": {},
   "outputs": [],
   "source": [
    "pd.set_option('display.max_columns', None)"
   ]
  },
  {
   "cell_type": "markdown",
   "metadata": {},
   "source": [
    "## Reading the files and preparing them for machine learning"
   ]
  },
  {
   "cell_type": "code",
   "execution_count": 3,
   "metadata": {},
   "outputs": [],
   "source": [
    "accepted2007 = pd.read_csv(\"accepted_2007_2011.csv\")"
   ]
  },
  {
   "cell_type": "code",
   "execution_count": 4,
   "metadata": {},
   "outputs": [],
   "source": [
    "accepted2016 = pd.read_csv(\"accepted_2016_2018_individual.csv\")"
   ]
  },
  {
   "cell_type": "code",
   "execution_count": null,
   "metadata": {},
   "outputs": [],
   "source": [
    "accepted2007.set_index(\"id\", inplace=True)"
   ]
  },
  {
   "cell_type": "code",
   "execution_count": null,
   "metadata": {},
   "outputs": [],
   "source": [
    "accepted2016.set_index(\"id\", inplace=True)"
   ]
  },
  {
   "cell_type": "code",
   "execution_count": null,
   "metadata": {},
   "outputs": [],
   "source": [
    "drop_no_var2007 = [\"hardship_flag\", \"disbursement_method\", \"tax_liens\", \"delinq_amnt\", \"chargeoff_within_12_mths\", \"acc_now_delinq\", \"application_type\", \n",
    "\"policy_code\", \"collections_12_mths_ex_med\", \"out_prncp\", \"out_prncp_inv\", \"pub_rec\", \"desc\", \"loan_status\", \"initial_list_status\"]"
   ]
  },
  {
   "cell_type": "code",
   "execution_count": null,
   "metadata": {},
   "outputs": [],
   "source": [
    "drop_no_var2016 = [\"hardship_flag\", \"chargeoff_within_12_mths\", \"application_type\", \"policy_code\", \"out_prncp\",\n",
    "               \"pymnt_plan\"]"
   ]
  },
  {
   "cell_type": "code",
   "execution_count": null,
   "metadata": {},
   "outputs": [],
   "source": [
    "post_loan_list2007 = [\"total_pymnt\", \"total_pymnt_inv\", \"total_rec_prncp\", \"total_rec_int\", \"total_rec_late_fee\",\n",
    "                  \"recoveries\", \"collection_recovery_fee\", \"last_pymnt_amnt\", \"last_credit_pull_d\", \n",
    "                  \"last_fico_range_high\", \"last_fico_range_low\", \"debt_settlement_flag\", \"installment\"]"
   ]
  },
  {
   "cell_type": "code",
   "execution_count": null,
   "metadata": {},
   "outputs": [],
   "source": [
    "post_loan_list2016 = [\"loan_status\", \"total_pymnt\", \"total_pymnt_inv\", \"total_rec_prncp\", \"total_rec_int\", \"total_rec_late_fee\",\n",
    "                  \"recoveries\", \"collection_recovery_fee\", \"last_pymnt_amnt\", \"last_credit_pull_d\", \n",
    "                  \"last_fico_range_high\", \"last_fico_range_low\", \"debt_settlement_flag\", \"installment\", \n",
    "                  \"disbursement_method\", \"hardship_flag\"]"
   ]
  },
  {
   "cell_type": "code",
   "execution_count": null,
   "metadata": {},
   "outputs": [],
   "source": [
    "drop_list_obj = [\"sub_grade\", \"emp_title\", \"title\", \"addr_state\", \"earliest_cr_line\", \n",
    "                 \"issue_d\", \"desc\"]"
   ]
  },
  {
   "cell_type": "code",
   "execution_count": null,
   "metadata": {},
   "outputs": [],
   "source": [
    "accepted2007.drop((drop_no_var2007 + post_loan_list2007 + drop_list_obj), axis = 1, inplace=True)"
   ]
  },
  {
   "cell_type": "code",
   "execution_count": null,
   "metadata": {},
   "outputs": [],
   "source": [
    "accepted2016.drop((drop_no_var2007 + post_loan_list2007 + drop_list_obj), axis = 1, inplace=True)"
   ]
  },
  {
   "cell_type": "markdown",
   "metadata": {},
   "source": [
    "# Decission tree"
   ]
  },
  {
   "cell_type": "markdown",
   "metadata": {},
   "source": [
    "I will use decission tree for the prediction of the loan grade. I will train separate models for the periods of 2007-2011 and 2016-2018 as the latter period has more features availbale so might result in a more accurate model"
   ]
  },
  {
   "cell_type": "markdown",
   "metadata": {},
   "source": [
    "## 2007-2011"
   ]
  },
  {
   "cell_type": "code",
   "execution_count": null,
   "metadata": {},
   "outputs": [],
   "source": []
  },
  {
   "cell_type": "code",
   "execution_count": null,
   "metadata": {},
   "outputs": [
    {
     "data": {
      "text/plain": [
       "(39997, 22)"
      ]
     },
     "execution_count": 14,
     "metadata": {},
     "output_type": "execute_result"
    }
   ],
   "source": [
    "accepted2007.shape"
   ]
  },
  {
   "cell_type": "markdown",
   "metadata": {},
   "source": [
    "### Cross-validation"
   ]
  },
  {
   "cell_type": "markdown",
   "metadata": {},
   "source": [
    "First I will cross-validate my dataset to make sure that the score of my model is not random. I will iterate over max_depth hyperparameter to see at which point the mean score stops being affected. I will use 20 folds for higher confidence "
   ]
  },
  {
   "cell_type": "code",
   "execution_count": null,
   "metadata": {},
   "outputs": [],
   "source": [
    "from sklearn.model_selection import cross_val_score\n",
    "accepted2007_grade = accepted2007[\"grade\"]\n",
    "accepted2007_features = accepted2007.drop(\"grade\", axis = 1)\n",
    "accepted2007_features = pd.get_dummies(accepted2007_features)"
   ]
  },
  {
   "cell_type": "code",
   "execution_count": null,
   "metadata": {},
   "outputs": [],
   "source": [
    "from sklearn.tree import DecisionTreeClassifier\n",
    "cv = cross_val_score(DecisionTreeClassifier(),accepted2007_features, accepted2007_grade, cv=20)"
   ]
  },
  {
   "cell_type": "code",
   "execution_count": null,
   "metadata": {},
   "outputs": [
    {
     "data": {
      "text/plain": [
       "<matplotlib.axes._subplots.AxesSubplot at 0x12590e048>"
      ]
     },
     "execution_count": 17,
     "metadata": {},
     "output_type": "execute_result"
    },
    {
     "data": {
      "image/png": "[encoded data removed]",
      "text/plain": [
       "<Figure size 432x288 with 1 Axes>"
      ]
     },
     "metadata": {
      "needs_background": "light"
     },
     "output_type": "display_data"
    }
   ],
   "source": [
    "pd.DataFrame(cv).plot(kind=\"bar\")"
   ]
  },
  {
   "cell_type": "markdown",
   "metadata": {},
   "source": [
    "Results of cross-validations seem to stay fairly stable throughout itterations"
   ]
  },
  {
   "cell_type": "code",
   "execution_count": null,
   "metadata": {},
   "outputs": [
    {
     "data": {
      "text/plain": [
       "0.9510864225064873"
      ]
     },
     "execution_count": 18,
     "metadata": {},
     "output_type": "execute_result"
    }
   ],
   "source": [
    "np.mean(cv)"
   ]
  },
  {
   "cell_type": "code",
   "execution_count": null,
   "metadata": {},
   "outputs": [],
   "source": [
    "accuracy = []\n",
    "for i in range(1,40):\n",
    "    cv = cross_val_score(DecisionTreeClassifier(max_depth = i),accepted2007_features, accepted2007_grade, cv=20)\n",
    "    accuracy.append(np.mean(cv))"
   ]
  },
  {
   "cell_type": "code",
   "execution_count": null,
   "metadata": {},
   "outputs": [],
   "source": [
    "pd.DataFrame(accuracy).plot()"
   ]
  },
  {
   "cell_type": "markdown",
   "metadata": {},
   "source": [
    "After iterating over various depths of decission tree it looks that from around the depth of 10 the decidion tree stops impoving, therefore I will use this hyperparameter for further testing."
   ]
  },
  {
   "cell_type": "markdown",
   "metadata": {},
   "source": [
    "### Decission tree train"
   ]
  },
  {
   "cell_type": "markdown",
   "metadata": {},
   "source": [
    "After seing that the model is fairly stable I will split my dataset into train/set and train it again so I can check more success measures using the max_depth of 10 "
   ]
  },
  {
   "cell_type": "code",
   "execution_count": null,
   "metadata": {},
   "outputs": [],
   "source": [
    "from sklearn.model_selection import train_test_split\n",
    "\n",
    "#sub_grade = accepted[\"sub_grade\"]\n",
    "loans_train, loans_test, grade_train, grade_test = train_test_split(accepted2007_features, accepted2007_grade, \n",
    "                                                                    test_size=0.2, random_state=42)"
   ]
  },
  {
   "cell_type": "code",
   "execution_count": null,
   "metadata": {},
   "outputs": [],
   "source": [
    "grade_class = DecisionTreeClassifier(max_depth = 10, random_state=0)"
   ]
  },
  {
   "cell_type": "code",
   "execution_count": null,
   "metadata": {},
   "outputs": [],
   "source": [
    "grade_class.fit(loans_train, grade_train)"
   ]
  },
  {
   "cell_type": "code",
   "execution_count": null,
   "metadata": {},
   "outputs": [],
   "source": [
    "grade_class.score(loans_test, grade_test)"
   ]
  },
  {
   "cell_type": "markdown",
   "metadata": {},
   "source": [
    "The score of the model seems to be fairly high and is inline with cross-validation results. Next i will make a confuccion matrix to see precission, recall and f-1 score of my model"
   ]
  },
  {
   "cell_type": "markdown",
   "metadata": {},
   "source": [
    "### Confussion matrix"
   ]
  },
  {
   "cell_type": "code",
   "execution_count": null,
   "metadata": {},
   "outputs": [],
   "source": [
    "from sklearn.metrics import confusion_matrix, classification_report"
   ]
  },
  {
   "cell_type": "code",
   "execution_count": null,
   "metadata": {},
   "outputs": [],
   "source": [
    "y_pred = grade_class.predict(loans_test)"
   ]
  },
  {
   "cell_type": "code",
   "execution_count": null,
   "metadata": {},
   "outputs": [],
   "source": [
    "confusion_matrix(grade_test,y_pred)"
   ]
  },
  {
   "cell_type": "code",
   "execution_count": null,
   "metadata": {
    "scrolled": true
   },
   "outputs": [],
   "source": [
    "print(classification_report(grade_test,y_pred))"
   ]
  },
  {
   "cell_type": "markdown",
   "metadata": {},
   "source": [
    "The results seem to be lower for lower grade loans due to the fact that they are under represented in the dataset. This could be impoved by using oversampling"
   ]
  },
  {
   "cell_type": "code",
   "execution_count": null,
   "metadata": {},
   "outputs": [],
   "source": [
    "from sklearn.externals.six import StringIO  \n",
    "from IPython.display import Image  \n",
    "from sklearn.tree import export_graphviz\n",
    "import pydotplus\n",
    "dot_data = StringIO()\n",
    "export_graphviz(grade_class, out_file=dot_data,  \n",
    "                filled=True, rounded=True,\n",
    "                special_characters=True)\n",
    "graph = pydotplus.graph_from_dot_data(dot_data.getvalue())  \n",
    "Image(graph.create_png())"
   ]
  },
  {
   "cell_type": "markdown",
   "metadata": {},
   "source": [
    "## 2016-2018"
   ]
  },
  {
   "cell_type": "markdown",
   "metadata": {},
   "source": [
    "### Cross Validation"
   ]
  },
  {
   "cell_type": "code",
   "execution_count": 49,
   "metadata": {},
   "outputs": [],
   "source": [
    "accepted2016_grade = accepted2016[\"grade\"]\n",
    "accepted2016_features = accepted2016.drop(\"grade\", axis = 1)\n",
    "accepted2016_features = pd.get_dummies(accepted2016_features)"
   ]
  },
  {
   "cell_type": "code",
   "execution_count": null,
   "metadata": {},
   "outputs": [],
   "source": [
    "cv = cross_val_score(DecisionTreeClassifier(),accepted2016_features, accepted2016_grade, cv=20)"
   ]
  },
  {
   "cell_type": "code",
   "execution_count": null,
   "metadata": {},
   "outputs": [],
   "source": [
    "pd.DataFrame(cv).plot(kind=\"bar\")"
   ]
  },
  {
   "cell_type": "code",
   "execution_count": null,
   "metadata": {},
   "outputs": [],
   "source": [
    "np.mean(cv)"
   ]
  },
  {
   "cell_type": "code",
   "execution_count": null,
   "metadata": {},
   "outputs": [],
   "source": [
    "accuracy = []\n",
    "for i in range(1,20):\n",
    "    cv = cross_val_score(DecisionTreeClassifier(max_depth = i),accepted2016_features, accepted2016_grade, cv=10)\n",
    "    accuracy.append(np.mean(cv))"
   ]
  },
  {
   "cell_type": "code",
   "execution_count": null,
   "metadata": {},
   "outputs": [],
   "source": [
    "pd.DataFrame(accuracy).plot()"
   ]
  },
  {
   "cell_type": "markdown",
   "metadata": {},
   "source": [
    "### Decission tree train"
   ]
  },
  {
   "cell_type": "code",
   "execution_count": null,
   "metadata": {},
   "outputs": [],
   "source": [
    "from sklearn.model_selection import train_test_split\n",
    "\n",
    "loans_train, loans_test, grade_train, grade_test = train_test_split(accepted2016_features,\n",
    "                                                                    accepted2016_grade, test_size=0.2, random_state=42)"
   ]
  },
  {
   "cell_type": "code",
   "execution_count": null,
   "metadata": {},
   "outputs": [],
   "source": [
    "from sklearn.tree import DecisionTreeClassifier\n",
    "grade_class = DecisionTreeClassifier(max_depth = 5, random_state=0)"
   ]
  },
  {
   "cell_type": "code",
   "execution_count": null,
   "metadata": {},
   "outputs": [],
   "source": [
    "grade_class.fit(loans_train, grade_train)"
   ]
  },
  {
   "cell_type": "code",
   "execution_count": null,
   "metadata": {},
   "outputs": [],
   "source": [
    "grade_class.score(loans_test, grade_test)"
   ]
  },
  {
   "cell_type": "code",
   "execution_count": null,
   "metadata": {},
   "outputs": [],
   "source": [
    "from sklearn.externals.six import StringIO  \n",
    "from IPython.display import Image  \n",
    "from sklearn.tree import export_graphviz\n",
    "import pydotplus\n",
    "dot_data = StringIO()\n",
    "export_graphviz(grade_class, out_file=dot_data,  \n",
    "                filled=True, rounded=True,\n",
    "                special_characters=True)\n",
    "graph = pydotplus.graph_from_dot_data(dot_data.getvalue())  \n",
    "Image(graph.create_png())"
   ]
  },
  {
   "cell_type": "markdown",
   "metadata": {},
   "source": [
    "### Confusion matrix"
   ]
  },
  {
   "cell_type": "code",
   "execution_count": 36,
   "metadata": {},
   "outputs": [],
   "source": [
    "from sklearn.metrics import confusion_matrix, classification_report"
   ]
  },
  {
   "cell_type": "code",
   "execution_count": 37,
   "metadata": {},
   "outputs": [],
   "source": [
    "y_pred = grade_class.predict(loans_test)"
   ]
  },
  {
   "cell_type": "code",
   "execution_count": 38,
   "metadata": {},
   "outputs": [
    {
     "data": {
      "text/plain": [
       "array([[38033,     0,     3,     0,     0,     1,     0],\n",
       "       [    0, 56457,  1147,     3,     1,     0,     0],\n",
       "       [    3,  1146, 56430,     6,     1,     0,     0],\n",
       "       [    0,     0,     6, 25867,   459,     1,     0],\n",
       "       [    0,     1,     3,   425,  8961,   115,     0],\n",
       "       [    1,     0,     0,     0,   124,  2686,    33],\n",
       "       [    0,     0,     2,     0,     0,    20,   970]])"
      ]
     },
     "execution_count": 38,
     "metadata": {},
     "output_type": "execute_result"
    }
   ],
   "source": [
    "confusion_matrix(grade_test,y_pred)"
   ]
  },
  {
   "cell_type": "code",
   "execution_count": 39,
   "metadata": {},
   "outputs": [
    {
     "name": "stdout",
     "output_type": "stream",
     "text": [
      "              precision    recall  f1-score   support\n",
      "\n",
      "           A       1.00      1.00      1.00     38037\n",
      "           B       0.98      0.98      0.98     57608\n",
      "           C       0.98      0.98      0.98     57586\n",
      "           D       0.98      0.98      0.98     26333\n",
      "           E       0.94      0.94      0.94      9505\n",
      "           F       0.95      0.94      0.95      2844\n",
      "           G       0.97      0.98      0.97       992\n",
      "\n",
      "   micro avg       0.98      0.98      0.98    192905\n",
      "   macro avg       0.97      0.97      0.97    192905\n",
      "weighted avg       0.98      0.98      0.98    192905\n",
      "\n"
     ]
    }
   ],
   "source": [
    "print(classification_report(grade_test,y_pred))"
   ]
  },
  {
   "cell_type": "markdown",
   "metadata": {},
   "source": [
    "# Random forest"
   ]
  },
  {
   "cell_type": "markdown",
   "metadata": {},
   "source": [
    "## 2007-2011"
   ]
  },
  {
   "cell_type": "code",
   "execution_count": 40,
   "metadata": {},
   "outputs": [],
   "source": [
    "from sklearn.ensemble import RandomForestClassifier\n",
    "from sklearn.datasets import make_classification"
   ]
  },
  {
   "cell_type": "code",
   "execution_count": 41,
   "metadata": {},
   "outputs": [
    {
     "name": "stdout",
     "output_type": "stream",
     "text": [
      "[2.57657465e-03 2.41849224e-03 2.60897912e-03 7.20564634e-01\n",
      " 2.75714449e-03 6.76302496e-03 4.54459471e-04 4.41252123e-02\n",
      " 3.51419199e-02 1.78332022e-03 1.88024794e-04 1.04480339e-03\n",
      " 5.74907172e-03 4.84000667e-04 5.47363213e-04 1.67011355e-03\n",
      " 9.13177479e-04 1.21221589e-04 1.63222646e-03 8.60935835e-04\n",
      " 1.97729291e-03 2.85735067e-04 1.56498580e-03 1.03745229e-03\n",
      " 1.94458196e-03 1.13544369e-03 1.04321772e-02 5.86166535e-03\n",
      " 3.05663463e-04 8.92609014e-05 1.19961740e-03 3.05114857e-03\n",
      " 1.48427699e-03 1.86376557e-02 8.38058267e-03 6.13454796e-04\n",
      " 1.20646826e-03 5.54466142e-04 5.84526690e-04 1.52578191e-03\n",
      " 7.33611116e-04 9.26548350e-04 2.97246272e-04 2.50958824e-04\n",
      " 2.63794622e-04 2.69535386e-04 2.93401853e-04 2.29417812e-04\n",
      " 1.70572163e-04 3.02323398e-04 4.19033253e-04 1.51937694e-04\n",
      " 5.66668878e-06 3.29953609e-05 3.27584650e-03 1.35505322e-03\n",
      " 8.66003138e-03 1.41684667e-04 2.87051551e-03 3.37419031e-04\n",
      " 1.08123875e-02 2.82818856e-04 3.06111760e-02 2.74580257e-02\n",
      " 1.09984807e-05 1.76032404e-05 1.39221713e-05 1.10628081e-05\n",
      " 1.03570881e-05 1.41666686e-05 1.00967111e-05 7.45778530e-06\n",
      " 1.07712360e-05 7.99668557e-06 1.59332791e-05 2.29875507e-06\n",
      " 2.59469176e-04 1.74072965e-05 1.83969302e-04 5.85749678e-03\n",
      " 8.26385204e-04 4.23574063e-03 2.36869349e-07 6.83067653e-07\n",
      " 2.57114627e-06 3.64537443e-03 1.88983103e-04 0.00000000e+00\n",
      " 1.27879970e-05 9.25654993e-06 6.07415905e-06 4.96261989e-06\n",
      " 5.38019948e-06 1.60784841e-04 1.32520643e-06 1.52699091e-05\n",
      " 4.23738020e-06 0.00000000e+00]\n"
     ]
    }
   ],
   "source": [
    "clf = RandomForestClassifier(n_estimators=100, max_depth=10, random_state=0)\n",
    "clf.fit(loans_train, grade_train)\n",
    "RandomForestClassifier(bootstrap=True, class_weight=None, criterion='gini', \n",
    "                       max_depth=2, max_features='auto', max_leaf_nodes=None,\n",
    "                       min_impurity_decrease=0.0, min_impurity_split=None,\n",
    "                       min_samples_leaf=1, min_samples_split=2,\n",
    "                       min_weight_fraction_leaf=0.0, n_estimators=100, n_jobs=None,\n",
    "                       oob_score=False, random_state=0, verbose=0, warm_start=False)\n",
    "print(clf.feature_importances_)\n"
   ]
  },
  {
   "cell_type": "code",
   "execution_count": 42,
   "metadata": {},
   "outputs": [
    {
     "data": {
      "text/plain": [
       "0.8340271117907778"
      ]
     },
     "execution_count": 42,
     "metadata": {},
     "output_type": "execute_result"
    }
   ],
   "source": [
    "clf.score(loans_test, grade_test)"
   ]
  },
  {
   "cell_type": "code",
   "execution_count": null,
   "metadata": {},
   "outputs": [],
   "source": []
  }
 ],
 "metadata": {
  "kernelspec": {
   "display_name": "Python 3",
   "language": "python",
   "name": "python3"
  },
  "language_info": {
   "codemirror_mode": {
    "name": "ipython",
    "version": 3
   },
   "file_extension": ".py",
   "mimetype": "text/x-python",
   "name": "python",
   "nbconvert_exporter": "python",
   "pygments_lexer": "ipython3",
   "version": "3.7.2"
  }
 },
 "nbformat": 4,
 "nbformat_minor": 2
}
