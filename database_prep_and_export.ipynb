{
 "cells": [
  {
   "cell_type": "code",
   "execution_count": 12,
   "metadata": {},
   "outputs": [],
   "source": [
    "import pandas as pd\n",
    "import numpy as np\n",
    "from sqlalchemy import create_engine\n",
    "import pymysql\n"
   ]
  },
  {
   "cell_type": "code",
   "execution_count": 25,
   "metadata": {},
   "outputs": [],
   "source": [
    "login = \"root\"\n",
    "password = \"Hiperis1984!\"\n",
    "ip = \"127.0.0.1\"\n",
    "database = \"LoanClub\"\n",
    "\n",
    "engine = create_engine(f'mysql+pymysql://{login}:{password}@{ip}/{database}')\n",
    "#df_to_save.to_sql(name_table, engine, index=False)"
   ]
  },
  {
   "cell_type": "code",
   "execution_count": 26,
   "metadata": {},
   "outputs": [],
   "source": [
    "term= pd.read_sql(\"select * from loan_term\", engine)"
   ]
  },
  {
   "cell_type": "code",
   "execution_count": 97,
   "metadata": {},
   "outputs": [],
   "source": [
    "accepted = pd.read_csv(\"accepted_2016_2018_individual.csv\")"
   ]
  },
  {
   "cell_type": "code",
   "execution_count": 19,
   "metadata": {},
   "outputs": [],
   "source": [
    "loan_term = pd.DataFrame(pd.unique(accepted[\"term\"]))"
   ]
  },
  {
   "cell_type": "code",
   "execution_count": 20,
   "metadata": {},
   "outputs": [],
   "source": [
    "loan_term.index = np.arange(1, len(loan_term) + 1)"
   ]
  },
  {
   "cell_type": "code",
   "execution_count": 21,
   "metadata": {},
   "outputs": [],
   "source": [
    "loan_term.rename(columns = {0:\"term_length\"}, inplace=True)"
   ]
  },
  {
   "cell_type": "code",
   "execution_count": 34,
   "metadata": {},
   "outputs": [],
   "source": [
    "loan_term.to_sql(\"loan_term\", con = engine, if_exists = \"replace\")"
   ]
  },
  {
   "cell_type": "code",
   "execution_count": 37,
   "metadata": {},
   "outputs": [],
   "source": [
    "home_ownership = pd.DataFrame(pd.unique(accepted[\"home_ownership\"]))"
   ]
  },
  {
   "cell_type": "code",
   "execution_count": 38,
   "metadata": {},
   "outputs": [],
   "source": [
    "home_ownership.index = np.arange(1, len(home_ownership) + 1)"
   ]
  },
  {
   "cell_type": "code",
   "execution_count": 50,
   "metadata": {},
   "outputs": [],
   "source": [
    "home_ownership.rename(columns = {0:\"ownership_type\"}, inplace=True)"
   ]
  },
  {
   "cell_type": "code",
   "execution_count": 53,
   "metadata": {},
   "outputs": [],
   "source": [
    "home_ownership.to_sql(\"home_ownership\", con = engine, if_exists = \"replace\")"
   ]
  },
  {
   "cell_type": "code",
   "execution_count": 54,
   "metadata": {},
   "outputs": [],
   "source": [
    "purpose = pd.DataFrame(pd.unique(accepted[\"purpose\"]))"
   ]
  },
  {
   "cell_type": "code",
   "execution_count": 55,
   "metadata": {},
   "outputs": [],
   "source": [
    "purpose.index = np.arange(1, len(purpose) + 1)"
   ]
  },
  {
   "cell_type": "code",
   "execution_count": 56,
   "metadata": {},
   "outputs": [],
   "source": [
    "purpose.rename(columns = {0:\"purpose\"}, inplace=True)"
   ]
  },
  {
   "cell_type": "code",
   "execution_count": 57,
   "metadata": {},
   "outputs": [],
   "source": [
    "purpose.to_sql(\"purpose\", con = engine, if_exists = \"replace\")"
   ]
  },
  {
   "cell_type": "code",
   "execution_count": 68,
   "metadata": {},
   "outputs": [],
   "source": [
    "grade = pd.DataFrame(pd.unique(accepted[\"sub_grade\"])).sort_values(0)"
   ]
  },
  {
   "cell_type": "code",
   "execution_count": 69,
   "metadata": {},
   "outputs": [],
   "source": [
    "grade.rename(columns = {0:\"sub_grade\"}, inplace=True)"
   ]
  },
  {
   "cell_type": "code",
   "execution_count": 70,
   "metadata": {},
   "outputs": [],
   "source": [
    "grade[\"grade\"] = grade[\"sub_grade\"].apply(lambda x: x[0])"
   ]
  },
  {
   "cell_type": "code",
   "execution_count": 72,
   "metadata": {},
   "outputs": [],
   "source": [
    "grade.index = np.arange(1, len(grade) + 1)"
   ]
  },
  {
   "cell_type": "code",
   "execution_count": 74,
   "metadata": {},
   "outputs": [],
   "source": [
    "grade.to_sql(\"grade\", con = engine, if_exists = \"replace\")"
   ]
  },
  {
   "cell_type": "code",
   "execution_count": 146,
   "metadata": {},
   "outputs": [],
   "source": [
    "accepted_small = accepted.sample(1000)"
   ]
  },
  {
   "cell_type": "code",
   "execution_count": 147,
   "metadata": {},
   "outputs": [
    {
     "data": {
      "text/plain": [
       " 36 months    745\n",
       " 60 months    255\n",
       "Name: term, dtype: int64"
      ]
     },
     "execution_count": 147,
     "metadata": {},
     "output_type": "execute_result"
    }
   ],
   "source": [
    "accepted_small[\"term\"].value_counts()"
   ]
  },
  {
   "cell_type": "code",
   "execution_count": 148,
   "metadata": {},
   "outputs": [],
   "source": [
    "accepted_small[\"term\"] = accepted_small[\"term\"].apply(lambda x: 1 if \"36\" in x else 2)"
   ]
  },
  {
   "cell_type": "code",
   "execution_count": 149,
   "metadata": {},
   "outputs": [
    {
     "data": {
      "text/plain": [
       "1    745\n",
       "2    255\n",
       "Name: term, dtype: int64"
      ]
     },
     "execution_count": 149,
     "metadata": {},
     "output_type": "execute_result"
    }
   ],
   "source": [
    "accepted_small[\"term\"].value_counts()"
   ]
  },
  {
   "cell_type": "code",
   "execution_count": 150,
   "metadata": {},
   "outputs": [],
   "source": [
    "accepted_small[\"purpose\"] = accepted_small[\"purpose\"].apply(lambda x: 1 if \"other\" in x \n",
    "                                                            else 2 if \"debt\" in x \n",
    "                                                            else 3 if \"major\" in x \n",
    "                                                            else 4 if \"home\" in x \n",
    "                                                            else 5 if \"credit\" in x \n",
    "                                                            else 6 if \"vacation\" in x \n",
    "                                                            else 7 if \"medical\" in x \n",
    "                                                            else 8 if \"car\" in x \n",
    "                                                            else 9 if \"small\" in x \n",
    "                                                            else 10 if \"house\" in x \n",
    "                                                            else 11 if \"moving\" in x \n",
    "                                                            else 12 if \"wedding\" in x \n",
    "                                                            else 13 if \"renewable\" in x \n",
    "                                                            else 14)"
   ]
  },
  {
   "cell_type": "code",
   "execution_count": 151,
   "metadata": {},
   "outputs": [],
   "source": [
    "accepted_small[\"home_ownership\"] = accepted_small[\"home_ownership\"].apply(lambda x: 1 if \"RENT\" in x \n",
    "                                                                          else 2 if \"OWN\" in x \n",
    "                                                                          else 3 if \"MORTGAGE\" in x \n",
    "                                                                          else 4)"
   ]
  },
  {
   "cell_type": "code",
   "execution_count": 152,
   "metadata": {},
   "outputs": [],
   "source": [
    "accepted_small[\"sub_grade\"] = accepted_small[\"sub_grade\"].apply(lambda x: 1 if \"A1\" in x \n",
    "                                                            else 2 if \"A2\" in x \n",
    "                                                            else 3 if \"A3\" in x \n",
    "                                                            else 4 if \"A4\" in x \n",
    "                                                            else 5 if \"A5\" in x \n",
    "                                                            else 6 if \"B1\" in x \n",
    "                                                            else 7 if \"B2\" in x \n",
    "                                                            else 8 if \"B3\" in x \n",
    "                                                            else 9 if \"B4\" in x \n",
    "                                                            else 10 if \"B5\" in x \n",
    "                                                            else 11 if \"C1\" in x \n",
    "                                                            else 12 if \"C2\" in x \n",
    "                                                            else 13 if \"C3\" in x \n",
    "                                                            else 14 if \"C4\" in x\n",
    "                                                            else 15 if \"C5\" in x\n",
    "                                                            else 16 if \"D1\" in x\n",
    "                                                            else 17 if \"D2\" in x\n",
    "                                                            else 18 if \"D3\" in x\n",
    "                                                            else 19 if \"D4\" in x\n",
    "                                                            else 20 if \"D5\" in x\n",
    "                                                            else 21 if \"E1\" in x\n",
    "                                                            else 22 if \"E2\" in x\n",
    "                                                            else 23 if \"E3\" in x\n",
    "                                                            else 24 if \"E4\" in x\n",
    "                                                            else 25 if \"E5\" in x\n",
    "                                                            else 26 if \"F1\" in x\n",
    "                                                            else 27 if \"F2\" in x\n",
    "                                                            else 28 if \"F3\" in x\n",
    "                                                            else 29 if \"F4\" in x\n",
    "                                                            else 30 if \"F5\" in x\n",
    "                                                            else 31 if \"G1\" in x\n",
    "                                                            else 32 if \"G2\" in x\n",
    "                                                            else 33 if \"G3\" in x\n",
    "                                                            else 34 if \"G4\" in x\n",
    "                                                            else 35)"
   ]
  },
  {
   "cell_type": "code",
   "execution_count": 153,
   "metadata": {},
   "outputs": [],
   "source": [
    "accepted_small[\"grade\"] = accepted_small[\"sub_grade\"]"
   ]
  },
  {
   "cell_type": "code",
   "execution_count": 154,
   "metadata": {},
   "outputs": [
    {
     "data": {
      "text/html": [
       "<div>\n",
       "<style scoped>\n",
       "    .dataframe tbody tr th:only-of-type {\n",
       "        vertical-align: middle;\n",
       "    }\n",
       "\n",
       "    .dataframe tbody tr th {\n",
       "        vertical-align: top;\n",
       "    }\n",
       "\n",
       "    .dataframe thead th {\n",
       "        text-align: right;\n",
       "    }\n",
       "</style>\n",
       "<table border=\"1\" class=\"dataframe\">\n",
       "  <thead>\n",
       "    <tr style=\"text-align: right;\">\n",
       "      <th></th>\n",
       "      <th>id</th>\n",
       "      <th>loan_amnt</th>\n",
       "      <th>funded_amnt</th>\n",
       "      <th>funded_amnt_inv</th>\n",
       "      <th>term</th>\n",
       "      <th>int_rate</th>\n",
       "      <th>installment</th>\n",
       "      <th>grade</th>\n",
       "      <th>sub_grade</th>\n",
       "      <th>emp_title</th>\n",
       "      <th>...</th>\n",
       "      <th>percent_bc_gt_75</th>\n",
       "      <th>pub_rec_bankruptcies</th>\n",
       "      <th>tax_liens</th>\n",
       "      <th>tot_hi_cred_lim</th>\n",
       "      <th>total_bal_ex_mort</th>\n",
       "      <th>total_bc_limit</th>\n",
       "      <th>total_il_high_credit_limit</th>\n",
       "      <th>hardship_flag</th>\n",
       "      <th>disbursement_method</th>\n",
       "      <th>debt_settlement_flag</th>\n",
       "    </tr>\n",
       "  </thead>\n",
       "  <tbody>\n",
       "    <tr>\n",
       "      <th>512105</th>\n",
       "      <td>143839544</td>\n",
       "      <td>3000.0</td>\n",
       "      <td>3000.0</td>\n",
       "      <td>3000.0</td>\n",
       "      <td>1</td>\n",
       "      <td>19.92</td>\n",
       "      <td>111.37</td>\n",
       "      <td>18</td>\n",
       "      <td>18</td>\n",
       "      <td>Medical Assistant</td>\n",
       "      <td>...</td>\n",
       "      <td>100.0</td>\n",
       "      <td>0.0</td>\n",
       "      <td>0.0</td>\n",
       "      <td>80596.0</td>\n",
       "      <td>81092.0</td>\n",
       "      <td>5000.0</td>\n",
       "      <td>71196.0</td>\n",
       "      <td>N</td>\n",
       "      <td>Cash</td>\n",
       "      <td>N</td>\n",
       "    </tr>\n",
       "    <tr>\n",
       "      <th>481771</th>\n",
       "      <td>68996739</td>\n",
       "      <td>8000.0</td>\n",
       "      <td>8000.0</td>\n",
       "      <td>8000.0</td>\n",
       "      <td>1</td>\n",
       "      <td>12.88</td>\n",
       "      <td>269.09</td>\n",
       "      <td>12</td>\n",
       "      <td>12</td>\n",
       "      <td>Data Center Engineer</td>\n",
       "      <td>...</td>\n",
       "      <td>100.0</td>\n",
       "      <td>0.0</td>\n",
       "      <td>0.0</td>\n",
       "      <td>55854.0</td>\n",
       "      <td>44336.0</td>\n",
       "      <td>8600.0</td>\n",
       "      <td>46954.0</td>\n",
       "      <td>N</td>\n",
       "      <td>Cash</td>\n",
       "      <td>N</td>\n",
       "    </tr>\n",
       "    <tr>\n",
       "      <th>217406</th>\n",
       "      <td>74624817</td>\n",
       "      <td>20000.0</td>\n",
       "      <td>20000.0</td>\n",
       "      <td>20000.0</td>\n",
       "      <td>1</td>\n",
       "      <td>11.47</td>\n",
       "      <td>659.24</td>\n",
       "      <td>10</td>\n",
       "      <td>10</td>\n",
       "      <td>Adminstrative</td>\n",
       "      <td>...</td>\n",
       "      <td>16.7</td>\n",
       "      <td>0.0</td>\n",
       "      <td>1.0</td>\n",
       "      <td>455523.0</td>\n",
       "      <td>61034.0</td>\n",
       "      <td>31900.0</td>\n",
       "      <td>59623.0</td>\n",
       "      <td>N</td>\n",
       "      <td>Cash</td>\n",
       "      <td>N</td>\n",
       "    </tr>\n",
       "    <tr>\n",
       "      <th>847407</th>\n",
       "      <td>122373189</td>\n",
       "      <td>16000.0</td>\n",
       "      <td>16000.0</td>\n",
       "      <td>16000.0</td>\n",
       "      <td>1</td>\n",
       "      <td>9.44</td>\n",
       "      <td>512.08</td>\n",
       "      <td>6</td>\n",
       "      <td>6</td>\n",
       "      <td>REALTOR/BROKER</td>\n",
       "      <td>...</td>\n",
       "      <td>0.0</td>\n",
       "      <td>1.0</td>\n",
       "      <td>0.0</td>\n",
       "      <td>459450.0</td>\n",
       "      <td>34252.0</td>\n",
       "      <td>30600.0</td>\n",
       "      <td>42250.0</td>\n",
       "      <td>N</td>\n",
       "      <td>Cash</td>\n",
       "      <td>N</td>\n",
       "    </tr>\n",
       "    <tr>\n",
       "      <th>580857</th>\n",
       "      <td>134726495</td>\n",
       "      <td>3500.0</td>\n",
       "      <td>3500.0</td>\n",
       "      <td>3500.0</td>\n",
       "      <td>1</td>\n",
       "      <td>11.05</td>\n",
       "      <td>114.67</td>\n",
       "      <td>9</td>\n",
       "      <td>9</td>\n",
       "      <td>Social Worker</td>\n",
       "      <td>...</td>\n",
       "      <td>33.3</td>\n",
       "      <td>0.0</td>\n",
       "      <td>0.0</td>\n",
       "      <td>188165.0</td>\n",
       "      <td>39610.0</td>\n",
       "      <td>5200.0</td>\n",
       "      <td>36711.0</td>\n",
       "      <td>N</td>\n",
       "      <td>DirectPay</td>\n",
       "      <td>N</td>\n",
       "    </tr>\n",
       "  </tbody>\n",
       "</table>\n",
       "<p>5 rows × 104 columns</p>\n",
       "</div>"
      ],
      "text/plain": [
       "               id  loan_amnt  funded_amnt  funded_amnt_inv  term  int_rate  \\\n",
       "512105  143839544     3000.0       3000.0           3000.0     1     19.92   \n",
       "481771   68996739     8000.0       8000.0           8000.0     1     12.88   \n",
       "217406   74624817    20000.0      20000.0          20000.0     1     11.47   \n",
       "847407  122373189    16000.0      16000.0          16000.0     1      9.44   \n",
       "580857  134726495     3500.0       3500.0           3500.0     1     11.05   \n",
       "\n",
       "        installment  grade  sub_grade             emp_title  ...  \\\n",
       "512105       111.37     18         18     Medical Assistant  ...   \n",
       "481771       269.09     12         12  Data Center Engineer  ...   \n",
       "217406       659.24     10         10         Adminstrative  ...   \n",
       "847407       512.08      6          6        REALTOR/BROKER  ...   \n",
       "580857       114.67      9          9         Social Worker  ...   \n",
       "\n",
       "       percent_bc_gt_75  pub_rec_bankruptcies  tax_liens tot_hi_cred_lim  \\\n",
       "512105            100.0                   0.0        0.0         80596.0   \n",
       "481771            100.0                   0.0        0.0         55854.0   \n",
       "217406             16.7                   0.0        1.0        455523.0   \n",
       "847407              0.0                   1.0        0.0        459450.0   \n",
       "580857             33.3                   0.0        0.0        188165.0   \n",
       "\n",
       "       total_bal_ex_mort total_bc_limit total_il_high_credit_limit  \\\n",
       "512105           81092.0         5000.0                    71196.0   \n",
       "481771           44336.0         8600.0                    46954.0   \n",
       "217406           61034.0        31900.0                    59623.0   \n",
       "847407           34252.0        30600.0                    42250.0   \n",
       "580857           39610.0         5200.0                    36711.0   \n",
       "\n",
       "       hardship_flag  disbursement_method debt_settlement_flag  \n",
       "512105             N                 Cash                    N  \n",
       "481771             N                 Cash                    N  \n",
       "217406             N                 Cash                    N  \n",
       "847407             N                 Cash                    N  \n",
       "580857             N            DirectPay                    N  \n",
       "\n",
       "[5 rows x 104 columns]"
      ]
     },
     "execution_count": 154,
     "metadata": {},
     "output_type": "execute_result"
    }
   ],
   "source": [
    "accepted_small.head()"
   ]
  },
  {
   "cell_type": "code",
   "execution_count": 155,
   "metadata": {},
   "outputs": [],
   "source": [
    "accepted_small.to_sql(\"accepted_loans\", con = engine, if_exists = \"replace\")"
   ]
  },
  {
   "cell_type": "code",
   "execution_count": null,
   "metadata": {},
   "outputs": [],
   "source": []
  }
 ],
 "metadata": {
  "kernelspec": {
   "display_name": "Python 3",
   "language": "python",
   "name": "python3"
  },
  "language_info": {
   "codemirror_mode": {
    "name": "ipython",
    "version": 3
   },
   "file_extension": ".py",
   "mimetype": "text/x-python",
   "name": "python",
   "nbconvert_exporter": "python",
   "pygments_lexer": "ipython3",
   "version": "3.7.2"
  }
 },
 "nbformat": 4,
 "nbformat_minor": 2
}
